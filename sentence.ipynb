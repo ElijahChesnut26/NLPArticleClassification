{
 "cells": [
  {
   "cell_type": "code",
   "execution_count": null,
   "metadata": {},
   "outputs": [],
   "source": []
  },
  {
   "cell_type": "code",
   "execution_count": 1,
   "metadata": {},
   "outputs": [
    {
     "name": "stderr",
     "output_type": "stream",
     "text": [
      "/Users/anirudhvalluru/anaconda3/lib/python3.11/site-packages/transformers/utils/generic.py:260: FutureWarning: `torch.utils._pytree._register_pytree_node` is deprecated. Please use `torch.utils._pytree.register_pytree_node` instead.\n",
      "  torch.utils._pytree._register_pytree_node(\n"
     ]
    }
   ],
   "source": [
    "import pandas as pd \n",
    "import numpy as np\n",
    "# from transformers import BertTokenizer\n",
    "from transformers import BertTokenizer, BertModel, BertForSequenceClassification\n",
    "import torch\n",
    "from torch.utils.data import Dataset, DataLoader\n"
   ]
  },
  {
   "cell_type": "code",
   "execution_count": 2,
   "metadata": {},
   "outputs": [
    {
     "name": "stdout",
     "output_type": "stream",
     "text": [
      "Index(['Party', 'Handle', 'Tweet'], dtype='object')\n",
      "Index(['_unit_id', '_golden', '_unit_state', '_trusted_judgments',\n",
      "       '_last_judgment_at', 'audience', 'audience:confidence', 'bias',\n",
      "       'bias:confidence', 'message', 'message:confidence', 'orig__golden',\n",
      "       'audience_gold', 'bias_gold', 'bioid', 'embed', 'id', 'label',\n",
      "       'message_gold', 'source', 'text'],\n",
      "      dtype='object')\n",
      "0       partisan\n",
      "1       partisan\n",
      "2        neutral\n",
      "3        neutral\n",
      "4       partisan\n",
      "          ...   \n",
      "4995    partisan\n",
      "4996    partisan\n",
      "4997     neutral\n",
      "4998     neutral\n",
      "4999     neutral\n",
      "Name: bias, Length: 5000, dtype: object\n"
     ]
    }
   ],
   "source": [
    "df=pd.read_csv(\"/Users/anirudhvalluru/Desktop/LLM Project/ExtractedTweets.csv\")\n",
    "df_neutral = pd.read_csv(\"/Users/anirudhvalluru/Desktop/LLM Project/political_social_media.csv\")\n",
    "\n",
    "print(df.columns)\n",
    "print(df_neutral.columns)\n",
    "\n",
    "print(df_neutral['bias'])\n"
   ]
  },
  {
   "cell_type": "code",
   "execution_count": 3,
   "metadata": {},
   "outputs": [
    {
     "name": "stdout",
     "output_type": "stream",
     "text": [
      "Index(['bias', 'text'], dtype='object')\n",
      "         bias                                               text\n",
      "0     neutral  Please join me today in remembering our fallen...\n",
      "1     neutral  RT @SenatorLeahy: 1st step toward Senate debat...\n",
      "2     neutral  @BBCWorld, help us keep the kidnapped Nigerian...\n",
      "3     neutral  Show your Arizona pride-choose your favorite S...\n",
      "4     neutral  What a wonderful night at State Senator Ken Ya...\n",
      "...       ...                                                ...\n",
      "3684  neutral  Today I will be back in Bloomington for a ‰ÛÏM...\n",
      "3685  neutral  I was honored to host the Discovery Channel in...\n",
      "3686  neutral  (Taken from posted WOKV interview)   Congressm...\n",
      "3687  neutral  Join me next week for a town hall in Ocala! I'...\n",
      "3688  neutral  Foreign Affairs Committee Hearing on Syria. I ...\n",
      "\n",
      "[3689 rows x 2 columns]\n",
      "[1 0 2]\n"
     ]
    }
   ],
   "source": [
    "# df_bias= df_neutral['bias']\n",
    "\n",
    "# df_bias['tweet'] = df_neutral['text']\n",
    "# print(df_bias)\n",
    "df_neutral = df_neutral.drop(columns = ['_unit_id', '_golden', '_unit_state', '_trusted_judgments',\n",
    "       '_last_judgment_at', 'audience', 'audience:confidence',\n",
    "       'bias:confidence', 'message', 'message:confidence', 'orig__golden',\n",
    "       'audience_gold', 'bias_gold', 'bioid', 'embed', 'id', 'label',\n",
    "       'message_gold', 'source'], axis=1)\n",
    "\n",
    "print(df_neutral.columns)\n",
    "df = df.drop(columns = ['Handle'],axis= 1)\n",
    "df['bias'] = df['Party']\n",
    "df = df.drop(columns = ['Party'],axis= 1)\n",
    "df['text'] = df['Tweet']\n",
    "df = df.drop(columns = ['Tweet'],axis= 1)\n",
    "# print(df_neutral)\n",
    "# df_neutral.drop(['bias'] = ['partisan'],axis =0)\n",
    "df_neutral = df_neutral[~df_neutral['bias'].str.lower().isin(['partisan'])]\n",
    "\n",
    "df_neutral = df_neutral.reset_index(drop=True)\n",
    "print(df_neutral)\n",
    "\n",
    "# print(df.columns)\n",
    "dfc = pd.concat([df_neutral, df], axis=0, ignore_index=True)\n",
    "dfc = dfc.reset_index(drop=True)\n",
    "\n",
    "dfc = dfc.replace(to_replace='Democrat', value = 0)\n",
    "dfc = dfc.replace(to_replace='neutral', value = 1)\n",
    "dfc = dfc.replace(to_replace='Republican', value = 2)\n",
    "\n",
    "print(dfc['bias'].unique())\n"
   ]
  },
  {
   "cell_type": "code",
   "execution_count": 4,
   "metadata": {},
   "outputs": [
    {
     "name": "stdout",
     "output_type": "stream",
     "text": [
      "       bias                                               text\n",
      "0         1  Please join me today in remembering our fallen...\n",
      "1         1  RT @SenatorLeahy: 1st step toward Senate debat...\n",
      "2         1  @BBCWorld, help us keep the kidnapped Nigerian...\n",
      "3         1  Show your Arizona pride-choose your favorite S...\n",
      "4         1  What a wonderful night at State Senator Ken Ya...\n",
      "...     ...                                                ...\n",
      "90144     2  Check out my op-ed on need for End Executive O...\n",
      "90145     2  Yesterday, Betty &amp; I had a great time lear...\n",
      "90146     2  We are forever grateful for the service and sa...\n",
      "90147     2  Happy first day of school @CobbSchools! #CobbB...\n",
      "90148     2  #Zika fears realized in Florida. House GOP act...\n",
      "\n",
      "[90149 rows x 2 columns]\n"
     ]
    }
   ],
   "source": [
    "print(dfc)"
   ]
  },
  {
   "cell_type": "code",
   "execution_count": 5,
   "metadata": {},
   "outputs": [
    {
     "name": "stderr",
     "output_type": "stream",
     "text": [
      "Some weights of BertForSequenceClassification were not initialized from the model checkpoint at bert-base-uncased and are newly initialized: ['classifier.weight', 'classifier.bias']\n",
      "You should probably TRAIN this model on a down-stream task to be able to use it for predictions and inference.\n"
     ]
    }
   ],
   "source": [
    "# tokenizer = BertTokenizer.pretrained('bert-base-uncased')\n",
    "tokenizer = BertTokenizer.from_pretrained('bert-base-uncased')\n",
    "model = BertForSequenceClassification.from_pretrained('bert-base-uncased', num_labels=3) #3 for deomctratic, neutral, and republican"
   ]
  },
  {
   "cell_type": "code",
   "execution_count": 6,
   "metadata": {},
   "outputs": [],
   "source": [
    "from torch.utils.data import DataLoader, Dataset\n",
    "import torch\n",
    "\n",
    "class TweetDataset(Dataset):\n",
    "    def __init__(self, texts, labels, tokenizer, max_len):\n",
    "        self.texts = texts\n",
    "        self.labels = labels\n",
    "        self.tokenizer = tokenizer\n",
    "        self.max_len = max_len\n",
    "\n",
    "    def __len__(self):\n",
    "        return len(self.texts)\n",
    "\n",
    "    def __getitem__(self, idx):\n",
    "        text = self.texts[idx]\n",
    "        label = self.labels[idx]\n",
    "\n",
    "        encoding = self.tokenizer.encode_plus(\n",
    "            text,\n",
    "            max_length=self.max_len,\n",
    "            truncation=True,\n",
    "            padding='max_length',\n",
    "            add_special_tokens=True,\n",
    "            return_tensors='pt'\n",
    "        )\n",
    "        \n",
    "        return {\n",
    "            'input_ids': encoding['input_ids'].flatten(),\n",
    "            'attention_mask': encoding['attention_mask'].flatten(),\n",
    "            'labels': torch.tensor(label, dtype=torch.long)\n",
    "        }"
   ]
  },
  {
   "cell_type": "code",
   "execution_count": 7,
   "metadata": {},
   "outputs": [],
   "source": [
    "from sklearn.model_selection import train_test_split #since neutral is ~3000, maybe consider k-stratified fold\n",
    "\n",
    "texts = dfc['text'].tolist()\n",
    "labels = dfc['bias'].tolist() # use this for the targets categorcial \n",
    "\n",
    "train_texts, val_texts, train_labels, val_labels = train_test_split(texts, labels, test_size=0.2, random_state=42) #80-20 split\n",
    "\n",
    "train_dataset = TweetDataset(train_texts, train_labels, tokenizer, max_len=128)\n",
    "val_dataset = TweetDataset(val_texts, val_labels, tokenizer, max_len=128)\n",
    "\n",
    "train_loader = DataLoader(train_dataset, batch_size=16, shuffle=True)\n",
    "val_loader = DataLoader(val_dataset, batch_size=16, shuffle=False)\n"
   ]
  },
  {
   "cell_type": "code",
   "execution_count": 8,
   "metadata": {},
   "outputs": [
    {
     "name": "stderr",
     "output_type": "stream",
     "text": [
      "/Users/anirudhvalluru/anaconda3/lib/python3.11/site-packages/transformers/optimization.py:411: FutureWarning: This implementation of AdamW is deprecated and will be removed in a future version. Use the PyTorch implementation torch.optim.AdamW instead, or set `no_deprecation_warning=True` to disable this warning\n",
      "  warnings.warn(\n"
     ]
    }
   ],
   "source": [
    "from transformers import AdamW\n",
    "from torch.optim import lr_scheduler\n",
    "\n",
    "optimizer = AdamW(model.parameters(), lr=.001, eps=1e-8) #adamw is good for this\n",
    "\n",
    "\n",
    "scheduler = lr_scheduler.StepLR(optimizer, step_size=10, gamma=0.1) \n",
    "\n",
    "loss_fn = torch.nn.CrossEntropyLoss() # good for multiclass\n"
   ]
  },
  {
   "cell_type": "code",
   "execution_count": 9,
   "metadata": {},
   "outputs": [],
   "source": [
    "from tqdm import tqdm\n",
    "\n",
    "\n",
    "device = torch.device('cpu')\n",
    "model.to(device)\n",
    "\n",
    "def train_epoch(model, data_loader, loss_fn, optimizer, device):\n",
    "    model.train()\n",
    "    total_loss = 0\n",
    "\n",
    "    for batch in tqdm(data_loader): #usign progress bar\n",
    "        input_ids = batch['input_ids'].to(device)\n",
    "        attention_mask = batch['attention_mask'].to(device)\n",
    "        labels = batch['labels'].to(device)\n",
    "\n",
    "        optimizer.zero_grad()\n",
    "        outputs = model(input_ids=input_ids, attention_mask=attention_mask, labels=labels)\n",
    "        loss = outputs.loss\n",
    "        loss.backward()\n",
    "        optimizer.step()\n",
    "\n",
    "        total_loss += loss.item()\n",
    "\n",
    "    return total_loss / len(data_loader)\n",
    "\n",
    "def eval_model(model, data_loader, device):\n",
    "    model.eval()\n",
    "    correct = 0\n",
    "    total = 0\n",
    "\n",
    "    with torch.no_grad():\n",
    "        for batch in data_loader:\n",
    "            input_ids = batch['input_ids'].to(device)\n",
    "            attention_mask = batch['attention_mask'].to(device)\n",
    "            labels = batch['labels'].to(device)\n",
    "\n",
    "            outputs = model(input_ids=input_ids, attention_mask=attention_mask)\n",
    "            _, preds = torch.max(outputs.logits, dim=1)\n",
    "\n",
    "            correct += (preds == labels).sum().item()\n",
    "            total += labels.size(0)\n",
    "\n",
    "    return correct / total\n"
   ]
  },
  {
   "cell_type": "code",
   "execution_count": null,
   "metadata": {},
   "outputs": [
    {
     "name": "stdout",
     "output_type": "stream",
     "text": [
      "Epoch 1/3\n"
     ]
    },
    {
     "name": "stderr",
     "output_type": "stream",
     "text": [
      "  2%|▏         | 83/4508 [06:38<2:52:38,  2.34s/it] "
     ]
    }
   ],
   "source": [
    "EPOCHS = 3\n",
    "\n",
    "for epoch in range(EPOCHS):\n",
    "    print(f\"Epoch {epoch + 1}/{EPOCHS}\")\n",
    "    train_loss = train_epoch(model, train_loader, loss_fn, optimizer, device)\n",
    "    accuracy = eval_model(model, val_loader, device)\n",
    "\n",
    "    print(f\"Train Loss: {train_loss:.3f} | Validation Accuracy: {accuracy:.3f}\")\n"
   ]
  },
  {
   "cell_type": "code",
   "execution_count": null,
   "metadata": {},
   "outputs": [],
   "source": [
    "model.save_pretrained('./political_bias_model')\n",
    "tokenizer.save_pretrained('./political_bias_model') # save model for later to use in other models\n"
   ]
  },
  {
   "cell_type": "code",
   "execution_count": null,
   "metadata": {},
   "outputs": [],
   "source": [
    "from transformers import BertTokenizer, BertForSequenceClassification\n",
    "\n",
    "\n",
    "model = BertForSequenceClassification.from_pretrained('./political_bias_model') # to load new model\n",
    "tokenizer = BertTokenizer.from_pretrained('./political_bias_model')\n",
    "\n",
    "def predict(text, model, tokenizer, device):\n",
    "    model.eval()\n",
    "    inputs = tokenizer.encode_plus(\n",
    "        text,\n",
    "        return_tensors=\"pt\",\n",
    "        max_length=128,\n",
    "        truncation=True,\n",
    "        padding=\"max_length\"\n",
    "    )\n",
    "    input_ids = inputs[\"input_ids\"].to(device)\n",
    "    attention_mask = inputs[\"attention_mask\"].to(device)\n",
    "\n",
    "    with torch.no_grad():\n",
    "        outputs = model(input_ids=input_ids, attention_mask=attention_mask)\n",
    "        logits = outputs.logits\n",
    "        prediction = torch.argmax(logits, dim=1).item()\n",
    "\n",
    "    return prediction\n"
   ]
  }
 ],
 "metadata": {
  "kernelspec": {
   "display_name": "base",
   "language": "python",
   "name": "python3"
  },
  "language_info": {
   "codemirror_mode": {
    "name": "ipython",
    "version": 3
   },
   "file_extension": ".py",
   "mimetype": "text/x-python",
   "name": "python",
   "nbconvert_exporter": "python",
   "pygments_lexer": "ipython3",
   "version": "3.11.5"
  }
 },
 "nbformat": 4,
 "nbformat_minor": 2
}
